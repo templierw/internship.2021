{
 "cells": [
  {
   "cell_type": "markdown",
   "source": [
    "# Disaggregation with PyTorch and lstms"
   ],
   "metadata": {}
  },
  {
   "cell_type": "code",
   "execution_count": null,
   "source": [
    "import warnings\n",
    "warnings.filterwarnings('ignore')\n",
    "\n",
    "import pandas as pd\n",
    "\n",
    "from torch.nn import MSELoss\n",
    "from torch.optim import Adam\n",
    "\n",
    "from distorch.dataset import DisaggregationDataset\n",
    "from distorch.trainer import Trainer\n",
    "from distorch.metrics import PerformanceEvaluator\n",
    "\n",
    "from distorch.models.lstm_disaggregator import *"
   ],
   "outputs": [],
   "metadata": {}
  },
  {
   "cell_type": "code",
   "execution_count": null,
   "source": [
    "dd = DisaggregationDataset(preprocess=True, months=[2, 8])\n",
    "train_set, val_set = dd.get_train_val_set()\n",
    "train_loader, val_loader = dd.get_dataloader(batch_size=64)"
   ],
   "outputs": [],
   "metadata": {}
  },
  {
   "cell_type": "code",
   "execution_count": null,
   "source": [
    "disaggregator = LSTMDisaggregator(\n",
    "    n_features=9, hidden_dim=9, n_outputs=2\n",
    ")\n",
    "\n",
    "trainer = Trainer(\n",
    "    disaggregator, MSELoss(reduction='mean'), Adam(disaggregator.parameters(), lr=0.001)\n",
    ")\n",
    "\n",
    "trainer.set_loaders(train_loader, val_loader)\n",
    "trainer.train(50)"
   ],
   "outputs": [],
   "metadata": {}
  },
  {
   "cell_type": "code",
   "execution_count": null,
   "source": [
    "X_val, y_val = val_set.tensors\n",
    "\n",
    "pv_pr, load_pr = trainer.predict(X_val)\n",
    "pv_true = y_val[:,1]\n",
    "load_true = y_val[:,0]"
   ],
   "outputs": [],
   "metadata": {}
  },
  {
   "cell_type": "code",
   "execution_count": null,
   "source": [
    "pv_eval = PerformanceEvaluator(pv_pr, pv_true, scale=1.41)\n",
    "load_eval = PerformanceEvaluator(load_pr, load_true, scale=5.18)\n",
    "\n",
    "print(pv_eval.get_performance_metrics())\n",
    "print(load_eval.get_performance_metrics())"
   ],
   "outputs": [],
   "metadata": {}
  },
  {
   "cell_type": "code",
   "execution_count": null,
   "source": [
    "load = pd.DataFrame(\n",
    "    index=dd.val_index\n",
    ")\n",
    "load['load_pred'] = load_pr\n",
    "load['load_true'] = load_true\n",
    "\n",
    "load[(load.index.month == 9) & (load.index.day.isin([4,5,6]))].plot();"
   ],
   "outputs": [],
   "metadata": {}
  },
  {
   "cell_type": "code",
   "execution_count": null,
   "source": [
    "pv = pd.DataFrame(\n",
    "    index=dd.val_index\n",
    ")\n",
    "pv['pv_pred'] = pv_pr\n",
    "pv['pv_true'] = pv_true\n",
    "\n",
    "pv[(pv.index.month == 10) & (pv.index.day.isin([4,5,6]))].plot();"
   ],
   "outputs": [],
   "metadata": {}
  },
  {
   "cell_type": "code",
   "execution_count": null,
   "source": [
    "from distorch.models.mlp_disaggregator import MLPDisaggregator\n",
    "\n",
    "disaggregator = MLPDisaggregator(\n",
    "    hidden_layers = 4 * [9]\n",
    ")\n",
    "\n",
    "trainer = Trainer(\n",
    "    disaggregator, MSELoss(reduction='mean'), Adam(disaggregator.parameters(), lr=0.001)\n",
    ")\n",
    "trainer.set_loaders(train_loader, val_loader)\n",
    "trainer.train(1000)"
   ],
   "outputs": [],
   "metadata": {}
  },
  {
   "cell_type": "code",
   "execution_count": null,
   "source": [
    "X_val, y_val = val_set.tensors\n",
    "\n",
    "pv_pr, load_pr = trainer.predict(X_val)\n",
    "pv_true = y_val[:,1]\n",
    "load_true = y_val[:,0]\n",
    "\n",
    "pv_eval = PerformanceEvaluator(pv_pr, pv_true, scale=1.41)\n",
    "load_eval = PerformanceEvaluator(load_pr, load_true, scale=5.18)\n",
    "\n",
    "print(pv_eval.get_performance_metrics())\n",
    "print(load_eval.get_performance_metrics())"
   ],
   "outputs": [],
   "metadata": {}
  },
  {
   "cell_type": "code",
   "execution_count": null,
   "source": [
    "load = pd.DataFrame(\n",
    "    index=dd.val_index\n",
    ")\n",
    "load['load_pred'] = load_pr\n",
    "load['load_true'] = load_true\n",
    "\n",
    "load[(load.index.month == 6) & (load.index.day.isin([4,5,6]))].plot();"
   ],
   "outputs": [],
   "metadata": {}
  },
  {
   "cell_type": "code",
   "execution_count": null,
   "source": [
    "pv = pd.DataFrame(\n",
    "    index=dd.val_index\n",
    ")\n",
    "pv['pv_pred'] = pv_pr\n",
    "pv['pv_true'] = pv_true\n",
    "\n",
    "pv[(pv.index.month == 10) & (pv.index.day.isin([4,5,6]))].plot();"
   ],
   "outputs": [],
   "metadata": {}
  }
 ],
 "metadata": {
  "kernelspec": {
   "name": "python3",
   "display_name": "Python 3.8.10 64-bit"
  },
  "language_info": {
   "codemirror_mode": {
    "name": "ipython",
    "version": 3
   },
   "file_extension": ".py",
   "mimetype": "text/x-python",
   "name": "python",
   "nbconvert_exporter": "python",
   "pygments_lexer": "ipython3",
   "version": "3.8.10"
  },
  "interpreter": {
   "hash": "767d51c1340bd893661ea55ea3124f6de3c7a262a8b4abca0554b478b1e2ff90"
  }
 },
 "nbformat": 4,
 "nbformat_minor": 4
}