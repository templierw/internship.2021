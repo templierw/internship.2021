{
 "cells": [
  {
   "cell_type": "markdown",
   "source": [
    "# Observability"
   ],
   "metadata": {}
  },
  {
   "cell_type": "markdown",
   "source": [
    "## Forecast first"
   ],
   "metadata": {}
  },
  {
   "cell_type": "code",
   "execution_count": null,
   "source": [
    "import warnings\n",
    "warnings.filterwarnings('ignore')\n",
    "\n",
    "import pandas as pd\n",
    "\n",
    "import torch\n",
    "from torch.nn import MSELoss\n",
    "from torch.optim import Adam\n",
    "\n",
    "from sklearn.preprocessing import StandardScaler\n",
    "\n",
    "from distorch.dataset import ForecastingDataset\n",
    "from distorch.trainer import Trainer\n",
    "from distorch.metrics import PerformanceEvaluator\n",
    "\n",
    "from distorch.models.lstm_forecaster import LSTMForecaster\n",
    "from distorch.models.lstm_disaggregator import LSTMDisaggregator"
   ],
   "outputs": [],
   "metadata": {}
  },
  {
   "cell_type": "markdown",
   "source": [
    "### load the model"
   ],
   "metadata": {}
  },
  {
   "cell_type": "code",
   "execution_count": null,
   "source": [
    "forecaster = LSTMForecaster()\n",
    "trainer = Trainer(\n",
    "    forecaster, MSELoss(reduction='mean'), Adam(forecaster.parameters(), lr=0.001)\n",
    ")\n",
    "trainer.load_checkpoint('saved_models/forecaster')\n",
    "trainer.model.state_dict()"
   ],
   "outputs": [],
   "metadata": {}
  },
  {
   "cell_type": "markdown",
   "source": [
    "### load the data\n",
    "\n",
    "Forecasting three days in September"
   ],
   "metadata": {}
  },
  {
   "cell_type": "code",
   "execution_count": null,
   "source": [
    "df = pd.read_csv('datasets/data/forecasting_preprocset.csv', index_col=0, parse_dates=True)\n",
    "\n",
    "mask = (df.index.month == 9) & (df.index.day.isin([4,5,6]))\n",
    "X = df[mask].drop(columns=['netload'])\n",
    "y = df[mask]['netload']\n",
    "\n",
    "scaler = StandardScaler()\n",
    "X_s = scaler.fit_transform(X)\n",
    "\n",
    "X_tensor = torch.as_tensor(X_s).float()\n",
    "netload_tensor = torch.as_tensor(y).float()\n",
    "print(X_tensor.shape, y_tensor.shape)"
   ],
   "outputs": [],
   "metadata": {}
  },
  {
   "cell_type": "markdown",
   "source": [
    "### Forecast"
   ],
   "metadata": {}
  },
  {
   "cell_type": "code",
   "execution_count": null,
   "source": [
    "netload_pred = forecaster.predict(X_tensor)\n",
    "\n",
    "pd.DataFrame(\n",
    "    index = df[mask].index\n",
    "    columns = {\n",
    "        'netload_pred': netload_pred,\n",
    "        'netload_true': netload_tensor.numpy()\n",
    "    }\n",
    ").plot()"
   ],
   "outputs": [],
   "metadata": {}
  },
  {
   "cell_type": "markdown",
   "source": [
    "## Disaggregation"
   ],
   "metadata": {}
  },
  {
   "cell_type": "markdown",
   "source": [
    "### load model"
   ],
   "metadata": {}
  },
  {
   "cell_type": "code",
   "execution_count": null,
   "source": [
    "disaggregator = LSTMDisaggregator()\n",
    "trainer = Trainer(\n",
    "    disaggregator, MSELoss(reduction='mean'), Adam(disaggregator.parameters(), lr=0.001)\n",
    ")\n",
    "trainer.load_checkpoint('saved_models/disaggregator')\n",
    "trainer.model.state_dict()"
   ],
   "outputs": [],
   "metadata": {}
  },
  {
   "cell_type": "markdown",
   "source": [
    "### disaggregation data"
   ],
   "metadata": {}
  },
  {
   "cell_type": "code",
   "execution_count": null,
   "source": [
    "df_dis = pd.read_csv('datasets/data/disaggregation_preprocset.csv', index_col=0, parse_dates=True)\n",
    "\n",
    "df_dism = df_dis[mask]\n",
    "\n",
    "X = df_dism.drop(columns=['load', 'pv'])\n",
    "#switching to forecasted values\n",
    "X.netload = netload_pred\n",
    "y = df_dism[['load', 'pv']].values\n",
    "\n",
    "scaler = StandardScaler()\n",
    "X_s = scaler.fit_transform(X)\n",
    "\n",
    "X_tensor = torch.as_tensor(X_s).float()\n",
    "y_tensor = torch.as_tensor(y).float()\n",
    "print(X_tensor.shape, y_tensor.shape)"
   ],
   "outputs": [],
   "metadata": {}
  },
  {
   "cell_type": "code",
   "execution_count": null,
   "source": [
    "pv_pred, load_pred = disaggregator.predict(X_tensor)\n",
    "\n",
    "pd.DataFrame(\n",
    "    index = df_dism.index\n",
    "    columns = {\n",
    "        'pv_pred': pv_pred,\n",
    "        'pv_true': y_tensor[:,1].numpy()\n",
    "    }\n",
    ").plot()"
   ],
   "outputs": [],
   "metadata": {}
  },
  {
   "cell_type": "code",
   "execution_count": null,
   "source": [
    "pd.DataFrame(\n",
    "    index = df_dism.index\n",
    "    columns = {\n",
    "        'load_pred': load_pred,\n",
    "        'load_true': y_tensor[:,0].numpy()\n",
    "    }\n",
    ").plot()"
   ],
   "outputs": [],
   "metadata": {}
  },
  {
   "cell_type": "code",
   "execution_count": null,
   "source": [
    "from evaluation.metrics import PerformanceEvaluator\n",
    "\n",
    "netload_eval = PerformanceEvaluator(netload_pred, netload_tensor.numpy(), scale=)\n",
    "print(netload_eval.get_performance_metrics())\n",
    "pv_eval = PerformanceEvaluator(netload_pred, pv_tensor[:,1].numpy(), scale=1.41)\n",
    "print(pv_eval.get_performance_metrics())\n",
    "laod_eval = PerformanceEvaluator(pv_pred, load_tensor[:,0].numpy(), scale=5.18)\n",
    "print(netload_eval.get_performance_metrics())"
   ],
   "outputs": [],
   "metadata": {}
  },
  {
   "cell_type": "markdown",
   "source": [
    "## Disaggregation first"
   ],
   "metadata": {}
  },
  {
   "cell_type": "code",
   "execution_count": null,
   "source": [
    "disaggregator = LSTMDisaggregator()\n",
    "trainer = Trainer(\n",
    "    disaggregator, MSELoss(reduction='mean'), Adam(disaggregator.parameters(), lr=0.001)\n",
    ")\n",
    "trainer.load_checkpoint('saved_models/disaggregator')\n",
    "trainer.model.state_dict()"
   ],
   "outputs": [],
   "metadata": {}
  },
  {
   "cell_type": "code",
   "execution_count": null,
   "source": [
    "df_dis = pd.read_csv('datasets/data/disaggregation_preprocset.csv', index_col=0, parse_dates=True)\n",
    "\n",
    "df_dism = df_dis[mask]\n",
    "\n",
    "X = df_dism.drop(columns=['load', 'pv'])\n",
    "y = df_dism[['load', 'pv']].values\n",
    "\n",
    "scaler = StandardScaler()\n",
    "X_s = scaler.fit_transform(X)\n",
    "\n",
    "X_tensor = torch.as_tensor(X_s).float()\n",
    "y_tensor = torch.as_tensor(y).float()\n",
    "print(X_tensor.shape, y_tensor.shape)"
   ],
   "outputs": [],
   "metadata": {}
  }
 ],
 "metadata": {
  "kernelspec": {
   "name": "python3",
   "display_name": "Python 3.8.10 64-bit"
  },
  "language_info": {
   "codemirror_mode": {
    "name": "ipython",
    "version": 3
   },
   "file_extension": ".py",
   "mimetype": "text/x-python",
   "name": "python",
   "nbconvert_exporter": "python",
   "pygments_lexer": "ipython3",
   "version": "3.8.10"
  },
  "interpreter": {
   "hash": "767d51c1340bd893661ea55ea3124f6de3c7a262a8b4abca0554b478b1e2ff90"
  }
 },
 "nbformat": 4,
 "nbformat_minor": 4
}