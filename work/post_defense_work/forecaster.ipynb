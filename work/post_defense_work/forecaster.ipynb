{
 "cells": [
  {
   "cell_type": "code",
   "execution_count": null,
   "source": [
    "import pandas as pd\n",
    "import numpy as np\n",
    "\n",
    "import modelUtils as mu\n",
    "\n",
    "import warnings\n",
    "warnings.filterwarnings('ignore')\n",
    "\n",
    "df = pd.read_csv('load_prepro.csv', index_col=0, parse_dates=True)\n",
    "df.describe()"
   ],
   "outputs": [],
   "metadata": {}
  },
  {
   "cell_type": "code",
   "execution_count": null,
   "source": [
    "df['load_ewma'] = df.KWH.ewm(span=4).mean()\n",
    "df[(df.index.month == 6) & (df.index.day <= 7)][['KWH', 'load_ewma']].plot()\n",
    "df.drop(columns=['KWH'], inplace=True)"
   ],
   "outputs": [],
   "metadata": {}
  },
  {
   "cell_type": "code",
   "execution_count": null,
   "source": [
    "lag = 12\n",
    "\n",
    "for l in range(1, lag + 1):\n",
    "    col = f'LoadTm{l}'\n",
    "    df[col] = 0.0\n",
    "    for i in range(0, len(df)):\n",
    "        df[col][i] = df.loc[:,'load_ewma'][i - l]"
   ],
   "outputs": [],
   "metadata": {}
  },
  {
   "cell_type": "code",
   "execution_count": null,
   "source": [
    "case3 = pd.read_csv('../data/case03/case03_01.csv',index_col=0, usecols=['datetime','pv', 'load'], parse_dates=True)\n",
    "case3_hb = case3[(case3.index.month == 12) & (case3.index.day <= 7)]"
   ],
   "outputs": [],
   "metadata": {}
  },
  {
   "cell_type": "code",
   "execution_count": null,
   "source": [
    "lag = 12\n",
    "\n",
    "mask1 = (df.index.month == 12)\n",
    "train_df = df[~mask1]\n",
    "hb_df = df[mask1]\n",
    "hb_df = hb_df[hb_df.index.day <= 7]"
   ],
   "outputs": [],
   "metadata": {}
  },
  {
   "cell_type": "code",
   "execution_count": null,
   "source": [
    "from sklearn.metrics import mean_squared_error\n",
    "from sklearn.model_selection import GridSearchCV, KFold\n",
    "\n",
    "from sklearn.neural_network import MLPRegressor\n",
    "\n",
    "from sklearn.compose import ColumnTransformer\n",
    "from sklearn.preprocessing import StandardScaler\n",
    "from sklearn.pipeline import Pipeline\n",
    "from sklearn.decomposition import PCA"
   ],
   "outputs": [],
   "metadata": {}
  },
  {
   "cell_type": "code",
   "execution_count": null,
   "source": [
    "maxLoad = max(df.load_ewma)\n",
    "\n",
    "def nrmse(y_true, y_pred):\n",
    "    return (mean_squared_error(y_true, y_pred) ** .5)/maxLoad"
   ],
   "outputs": [],
   "metadata": {}
  },
  {
   "cell_type": "code",
   "execution_count": null,
   "source": [
    "X = train_df.drop(columns=['load_ewma'])\n",
    "y = train_df['load_ewma']\n",
    "\n",
    "print(f'# features = {len(X.columns)}')"
   ],
   "outputs": [],
   "metadata": {}
  },
  {
   "cell_type": "code",
   "execution_count": null,
   "source": [
    "to_scale = ['temp', 'irradiance', 'wind'] + [f'LoadTm{l}' for l in range(1,lag+1)]\n",
    "\n",
    "preprocessor = ColumnTransformer(\n",
    "    remainder='passthrough',\n",
    "    transformers=\n",
    "        [('scaler', StandardScaler(), to_scale)]\n",
    ")\n",
    "\n",
    "pipeline = Pipeline(\n",
    "    steps=[\n",
    "        ('preprocessor', preprocessor),\n",
    "        ('pca', PCA(.95)),\n",
    "        ('regressor', MLPRegressor())\n",
    "    ]\n",
    ")\n",
    "\n",
    "search_space = [\n",
    "    {\n",
    "        'regressor': [MLPRegressor()],\n",
    "        'regressor__hidden_layer_sizes': [4*[21]],\n",
    "        'regressor__activation': ['logistic'],\n",
    "        'regressor__solver': ['adam'],\n",
    "        'regressor__batch_size': [256],\n",
    "        'regressor__max_iter': [400],\n",
    "        'regressor__learning_rate_init': [1e-2, 1e-3, 1e-4, 1e-5],\n",
    "    }\n",
    "]\n",
    "\n",
    "cv = KFold(n_splits=10)\n",
    "search = GridSearchCV(pipeline, search_space, cv=cv, n_jobs=-1)"
   ],
   "outputs": [],
   "metadata": {}
  },
  {
   "cell_type": "code",
   "execution_count": null,
   "source": [
    "#results = search.fit(X, y)\n",
    "#results.best_params_"
   ],
   "outputs": [],
   "metadata": {}
  },
  {
   "cell_type": "code",
   "execution_count": null,
   "source": [
    "pipeline = Pipeline(steps= [\n",
    "    ('pre', preprocessor),\n",
    "    ('pca', PCA(.95)),\n",
    "    ('reg', MLPRegressor(\n",
    "        activation = 'logistic', \n",
    "        batch_size = 256,\n",
    "        hidden_layer_sizes = 3 * [42],\n",
    "        learning_rate_init = 0.001,\n",
    "        solver = 'adam', \n",
    "        max_iter = 400))\n",
    "])"
   ],
   "outputs": [],
   "metadata": {}
  },
  {
   "cell_type": "code",
   "execution_count": null,
   "source": [
    "X_hb = hb_df.drop(columns=['load_ewma'])\n",
    "y_hb = hb_df['load_ewma']\n",
    "\n",
    "pipeline.fit(X, y)\n",
    "y_pred = pipeline.predict(X_hb)\n",
    "\n",
    "nrmse(y_hb, y_pred)"
   ],
   "outputs": [],
   "metadata": {}
  },
  {
   "cell_type": "markdown",
   "source": [
    "### Recurrent predict"
   ],
   "metadata": {}
  },
  {
   "cell_type": "code",
   "execution_count": null,
   "source": [
    "def recurrent_predict(model, X, lag=lag):\n",
    "    window_size = len(X)\n",
    "    pred = np.zeros(window_size)\n",
    "    \n",
    "    for i in range(0, window_size):\n",
    "        j = 0\n",
    "        while (j < i and j < lag):\n",
    "            X.loc[:, f'LoadTm{j+1}'][i] = pred[i - (j + 1)]\n",
    "            j += 1\n",
    "            \n",
    "        X_i = pd.DataFrame(X.iloc[i, :].values.reshape(1,-1), index=[X.index[i]], columns=X.columns)\n",
    "        \n",
    "        pred[i] = model.predict(X_i)\n",
    "        \n",
    "    return pred"
   ],
   "outputs": [],
   "metadata": {}
  },
  {
   "cell_type": "code",
   "execution_count": null,
   "source": [
    "new_hb = X_hb.copy()\n",
    "pred = recurrent_predict(pipeline, new_hb)"
   ],
   "outputs": [],
   "metadata": {}
  },
  {
   "cell_type": "code",
   "execution_count": null,
   "source": [
    "nrmse(y_hb, pred)"
   ],
   "outputs": [],
   "metadata": {}
  },
  {
   "cell_type": "code",
   "execution_count": null,
   "source": [
    "plot = pd.DataFrame(index=X_hb.index)\n",
    "plot['y_true'] = y_hb\n",
    "plot['y_pred'] = pred\n",
    "plot.plot();"
   ],
   "outputs": [],
   "metadata": {}
  },
  {
   "cell_type": "code",
   "execution_count": null,
   "source": [
    "kPV = 20\n",
    "res = np.zeros(kPV)\n",
    "\n",
    "pred = recurrent_predict(pipeline, new_hb)\n",
    "new_hb = X_hb.copy()\n",
    "\n",
    "for k in range(0,kPV):\n",
    "    y = y_hb.copy()\n",
    "    for i in range(0, len(y.values)):\n",
    "        y.values[i] -= (k * case3.pv[i])\n",
    "    \n",
    "    res[k] = nrmse(y, pred)\n",
    "        \n",
    "pd.DataFrame(res, index=[f'{k}PV' for k in range(0,kPV)], columns=['nrmse']).plot(kind='bar');"
   ],
   "outputs": [],
   "metadata": {}
  },
  {
   "cell_type": "code",
   "execution_count": null,
   "source": [
    "mu.save_model(model=pipeline, path='forecaster', name='forecaster')"
   ],
   "outputs": [],
   "metadata": {}
  }
 ],
 "metadata": {
  "interpreter": {
   "hash": "767d51c1340bd893661ea55ea3124f6de3c7a262a8b4abca0554b478b1e2ff90"
  },
  "kernelspec": {
   "display_name": "Python 3",
   "language": "python",
   "name": "python3"
  },
  "language_info": {
   "codemirror_mode": {
    "name": "ipython",
    "version": 3
   },
   "file_extension": ".py",
   "mimetype": "text/x-python",
   "name": "python",
   "nbconvert_exporter": "python",
   "pygments_lexer": "ipython3",
   "version": "3.8.6"
  }
 },
 "nbformat": 4,
 "nbformat_minor": 2
}